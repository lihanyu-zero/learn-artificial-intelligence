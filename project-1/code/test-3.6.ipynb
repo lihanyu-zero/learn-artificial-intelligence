{
 "cells": [
  {
   "cell_type": "code",
   "execution_count": 4,
   "metadata": {},
   "outputs": [],
   "source": [
    "import numpy as np\n",
    "import tensorflow as tf\n",
    "from tensorflow.python.keras import backend as K\n",
    "from tensorflow.keras.models import Sequential\n",
    "from tensorflow.keras.preprocessing.image import ImageDataGenerator, array_to_img, img_to_array, load_img\n",
    "from tensorflow.keras.layers import Dense, Activation, Dropout, Flatten, Conv2D, MaxPooling2D\n",
    "import pickle"
   ]
  },
  {
   "cell_type": "code",
   "execution_count": 5,
   "metadata": {},
   "outputs": [],
   "source": [
    "def low_resolution(x, scale=4.0):\n",
    "    size = (x.shape[0], x.shape[1])\n",
    "    small_size = (int(size[0]/scale), int(size[1]/scale))\n",
    "    img = array_to_img(x)\n",
    "    small_img = img.resize(small_size, 3)\n",
    "    return img_to_array(small_img.resize(img.size, 3))"
   ]
  },
  {
   "cell_type": "code",
   "execution_count": 6,
   "metadata": {},
   "outputs": [],
   "source": [
    "def data_generator(data_dir, mode, scale=2.0, target_size=(250, 250), batch_size=10, shuffle=True):\n",
    "    for batch in ImageDataGenerator().flow_from_directory(\n",
    "        directory=data_dir,\n",
    "        classes=[mode],\n",
    "        class_mode=None,\n",
    "        color_mode='rgb',\n",
    "        target_size=target_size,\n",
    "        batch_size=batch_size,\n",
    "        shuffle=shuffle\n",
    "    ):\n",
    "        x = np.array([low_resolution(img, scale) for img in batch])\n",
    "        yield x/255, batch/255"
   ]
  },
  {
   "cell_type": "code",
   "execution_count": 7,
   "metadata": {},
   "outputs": [],
   "source": [
    "DATA_DIR = '../image/'\n",
    "TRAIN_DATA_NUMBER = 30\n",
    "TEST_DATA_NUMBER = 30\n",
    "BATCH_SIZE = 2"
   ]
  }
 ],
 "metadata": {
  "kernelspec": {
   "display_name": "pytorch-practice",
   "language": "python",
   "name": "python3"
  },
  "language_info": {
   "codemirror_mode": {
    "name": "ipython",
    "version": 3
   },
   "file_extension": ".py",
   "mimetype": "text/x-python",
   "name": "python",
   "nbconvert_exporter": "python",
   "pygments_lexer": "ipython3",
   "version": "3.9.17"
  },
  "orig_nbformat": 4
 },
 "nbformat": 4,
 "nbformat_minor": 2
}
