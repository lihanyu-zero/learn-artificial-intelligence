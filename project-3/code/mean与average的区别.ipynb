{
 "cells": [
  {
   "cell_type": "code",
   "execution_count": 1,
   "metadata": {},
   "outputs": [
    {
     "name": "stdout",
     "output_type": "stream",
     "text": [
      "Mean: 3.0\n",
      "Weighted Mean: 3.2\n"
     ]
    }
   ],
   "source": [
    "import numpy as np\n",
    "\n",
    "# 示例数组\n",
    "arr = np.array([1, 2, 3, 4, 5])\n",
    "\n",
    "# 使用np.mean()计算平均值\n",
    "mean_value = np.mean(arr)\n",
    "print(\"Mean:\", mean_value)\n",
    "\n",
    "# 使用np.average()计算平均值（加权平均）\n",
    "weights = np.array([0.1, 0.2, 0.3, 0.2, 0.2])\n",
    "weighted_mean = np.average(arr, weights=weights)\n",
    "print(\"Weighted Mean:\", weighted_mean)"
   ]
  },
  {
   "cell_type": "markdown",
   "metadata": {},
   "source": [
    "np.mean()和np.average()都是NumPy库中用于计算数组或序列的平均值的函数，但它们的计算方式略有不同。\n",
    "\n",
    "np.mean()函数计算给定数组或序列的算术平均值。它将所有元素相加并除以元素的总数，得到平均值。例如，对于数组[1, 2, 3, 4, 5]，np.mean()将计算 (1 + 2 + 3 + 4 + 5) / 5 = 3。\n",
    "\n",
    "np.average()函数也计算数组或序列的平均值，但它具有更高的灵活性。除了可以计算算术平均值外，np.average()还可以根据指定的权重计算加权平均值。通过传递一个具有相同长度的权重数组或序列，可以对每个元素进行加权，然后将加权后的值相加并除以权重的总和。例如，对于数组[1, 2, 3, 4, 5]和权重数组[0.1, 0.2, 0.3, 0.2, 0.2]，np.average()将计算 (1*0.1 + 2*0.2 + 3*0.3 + 4*0.2 + 5*0.2) / (0.1 + 0.2 + 0.3 + 0.2 + 0.2) = 3.1。\n",
    "\n",
    "因此，np.mean()适用于简单地计算算术平均值，而np.average()提供了更多灵活性，可以进行加权平均值的计算。选择使用哪个函数取决于所需的计算方式和需求。"
   ]
  }
 ],
 "metadata": {
  "kernelspec": {
   "display_name": "pytorch-practice",
   "language": "python",
   "name": "python3"
  },
  "language_info": {
   "codemirror_mode": {
    "name": "ipython",
    "version": 3
   },
   "file_extension": ".py",
   "mimetype": "text/x-python",
   "name": "python",
   "nbconvert_exporter": "python",
   "pygments_lexer": "ipython3",
   "version": "3.9.17"
  },
  "orig_nbformat": 4
 },
 "nbformat": 4,
 "nbformat_minor": 2
}
