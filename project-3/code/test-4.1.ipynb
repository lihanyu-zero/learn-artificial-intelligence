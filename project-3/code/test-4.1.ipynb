{
 "cells": [
  {
   "cell_type": "code",
   "execution_count": 26,
   "metadata": {},
   "outputs": [],
   "source": [
    "import numpy as np"
   ]
  },
  {
   "cell_type": "code",
   "execution_count": 27,
   "metadata": {},
   "outputs": [
    {
     "name": "stdout",
     "output_type": "stream",
     "text": [
      "[10.5 10.7 10.9 11.1 11.3 11.5 11.7 11.9 12.1 12.3 12.5 12.7 12.9 13.1\n",
      " 13.3] [ 12345.  23456.  34567.  45678.  56789.  67900.  79011.  90122. 101233.\n",
      " 112344. 123455. 134566. 145677. 156788. 167899.]\n"
     ]
    }
   ],
   "source": [
    "file_name = './../data/data_for_4.1.csv'\n",
    "end_prince, volumn = np.loadtxt(\n",
    "    file_name, delimiter=',', usecols=(2, 6), unpack=True\n",
    ")\n",
    "print(end_prince, volumn)"
   ]
  },
  {
   "cell_type": "code",
   "execution_count": 28,
   "metadata": {},
   "outputs": [
    {
     "name": "stdout",
     "output_type": "stream",
     "text": [
      "max_price = 13.0\n",
      "min_price = 10.0\n"
     ]
    }
   ],
   "source": [
    "file_name = './../data/data_for_4.1.csv'\n",
    "high_price, low = np.loadtxt(\n",
    "    file_name, delimiter=',', usecols=(4, 5), unpack=True\n",
    ")\n",
    "print('max_price = {}'.format(high_price.max()))\n",
    "print('min_price = {}'.format(high_price.min()))"
   ]
  },
  {
   "cell_type": "code",
   "execution_count": 29,
   "metadata": {},
   "outputs": [
    {
     "name": "stdout",
     "output_type": "stream",
     "text": [
      "ptp=3.0\n",
      "ptp=2.799999999999999\n"
     ]
    }
   ],
   "source": [
    "\n",
    "high_price, low_price = np.loadtxt(\n",
    "    file_name, delimiter=',', usecols=(4, 5), unpack=True\n",
    ")\n",
    "print('ptp={}'.format(np.ptp(high_price)))\n",
    "print('ptp={}'.format(np.ptp(low_price)))"
   ]
  },
  {
   "cell_type": "code",
   "execution_count": 30,
   "metadata": {},
   "outputs": [
    {
     "name": "stdout",
     "output_type": "stream",
     "text": [
      "avg_price=11.9\n",
      "VWAP=12.360276809953914\n"
     ]
    }
   ],
   "source": [
    "file_name = './../data/data_for_4.1.csv'\n",
    "end_prince, volumn = np.loadtxt(\n",
    "    file_name, delimiter=',', usecols=(2, 6), unpack=True\n",
    ")\n",
    "print('avg_price={}'.format(np.average(end_prince)))\n",
    "print('VWAP={}'.format(np.average(end_prince, weights=volumn)))"
   ]
  },
  {
   "cell_type": "code",
   "execution_count": 31,
   "metadata": {},
   "outputs": [
    {
     "name": "stdout",
     "output_type": "stream",
     "text": [
      "median=11.9\n"
     ]
    }
   ],
   "source": [
    "file_name = './../data/data_for_4.1.csv'\n",
    "end_prince, volumn = np.loadtxt(\n",
    "    file_name, delimiter=',', usecols=(2, 6), unpack=True\n",
    ")\n",
    "print('median={}'.format(np.median(end_prince)))"
   ]
  },
  {
   "cell_type": "code",
   "execution_count": 32,
   "metadata": {},
   "outputs": [
    {
     "name": "stdout",
     "output_type": "stream",
     "text": [
      "var=0.7466666666666667\n"
     ]
    }
   ],
   "source": [
    "file_name = './../data/data_for_4.1.csv'\n",
    "end_prince, volumn = np.loadtxt(\n",
    "    file_name, delimiter=',', usecols=(2, 6), unpack=True\n",
    ")\n",
    "print('var={}'.format(np.var(end_prince)))"
   ]
  },
  {
   "cell_type": "code",
   "execution_count": 33,
   "metadata": {},
   "outputs": [
    {
     "name": "stdout",
     "output_type": "stream",
     "text": [
      "log_return=[0.01886848 0.01851905 0.01818232 0.01785762 0.01754431 0.01724181\n",
      " 0.01694956 0.01666705 0.01639381 0.01612938 0.01587335 0.01562532\n",
      " 0.01538492 0.01515181]\n",
      "annual_volatility=1.077136749712424\n",
      "monthly_volatility=0.23598883813411634\n"
     ]
    }
   ],
   "source": [
    "file_name = './../data/data_for_4.1.csv'\n",
    "end_prince, volumn = np.loadtxt(\n",
    "    file_name, delimiter=',', usecols=(2, 6), unpack=True\n",
    ")\n",
    "log_return = np.diff(np.log(end_prince))\n",
    "\n",
    "annual_volatility = log_return.std() / log_return.mean() * np.sqrt(250) # 年波动(250个交易日)\n",
    "monthly_volatility = log_return.std() / log_return.mean() * np.sqrt(12) # 月波动\n",
    "print('log_return={}'.format(log_return))\n",
    "print('annual_volatility={}'.format(annual_volatility))\n",
    "print('monthly_volatility={}'.format(monthly_volatility))"
   ]
  }
 ],
 "metadata": {
  "kernelspec": {
   "display_name": "pytorch-practice",
   "language": "python",
   "name": "python3"
  },
  "language_info": {
   "codemirror_mode": {
    "name": "ipython",
    "version": 3
   },
   "file_extension": ".py",
   "mimetype": "text/x-python",
   "name": "python",
   "nbconvert_exporter": "python",
   "pygments_lexer": "ipython3",
   "version": "3.9.17"
  },
  "orig_nbformat": 4
 },
 "nbformat": 4,
 "nbformat_minor": 2
}
