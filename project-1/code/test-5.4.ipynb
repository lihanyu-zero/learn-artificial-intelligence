{
 "cells": [
  {
   "cell_type": "code",
   "execution_count": null,
   "metadata": {},
   "outputs": [],
   "source": [
    "from tensorflow.keras.models import Sequential\n",
    "from tensorflow.keras.layers import Conv2D, MaxPooling2D, Flatten, Dense, Dropout"
   ]
  },
  {
   "cell_type": "code",
   "execution_count": null,
   "metadata": {},
   "outputs": [],
   "source": [
    "INPUT_SIZE = 200 # 200x200\n",
    "OUTPUT_SIZE = INPUT_SIZE - (9-1) - (5-1) # 192x192\n",
    "\n",
    "model = Sequential()\n",
    "model.add(\n",
    "    Conv2D(\n",
    "        filters=64, # number of filters\n",
    "        kernel_size=(9, 9), # size of the filter\n",
    "        padding='valid', # padding strategy\n",
    "        strides=(1, 1), # stride\n",
    "        activation='relu', # activation function\n",
    "    )\n",
    ")\n",
    "model.add(\n",
    "    Conv2D(\n",
    "        filters=32, # number of filters\n",
    "        kernel_size=(1, 1), # size of the filter\n",
    "        padding='valid', # padding strategy\n",
    "        strides=(1, 1), # stride\n",
    "        activation='relu', # activation function\n",
    "    )\n",
    ")\n",
    "model.add(\n",
    "    Conv2D(\n",
    "        filters=1, # number of filters\n",
    "        kernel_size=(5, 5), # size of the filter\n",
    "        padding='valid', # padding strategy\n",
    "        strides=(1, 1), # stride\n",
    "        activation='relu', # activation function\n",
    "    )\n",
    ")"
   ]
  }
 ],
 "metadata": {
  "kernelspec": {
   "display_name": "pytorch-practice",
   "language": "python",
   "name": "python3"
  },
  "language_info": {
   "codemirror_mode": {
    "name": "ipython",
    "version": 3
   },
   "file_extension": ".py",
   "mimetype": "text/x-python",
   "name": "python",
   "nbconvert_exporter": "python",
   "pygments_lexer": "ipython3",
   "version": "3.9.17"
  },
  "orig_nbformat": 4
 },
 "nbformat": 4,
 "nbformat_minor": 2
}
