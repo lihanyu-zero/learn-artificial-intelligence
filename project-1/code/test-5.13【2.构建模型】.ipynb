{
 "cells": [
  {
   "cell_type": "code",
   "execution_count": null,
   "metadata": {},
   "outputs": [],
   "source": [
    "import tensorflow as tf\n",
    "from tensorflow.keras import Sequential\n",
    "from tensorflow.keras.layers import Conv2D, MaxPool2D, Flatten, Dense"
   ]
  },
  {
   "cell_type": "code",
   "execution_count": null,
   "metadata": {},
   "outputs": [],
   "source": [
    "model = Sequential()\n",
    "model.add(Conv2D(\n",
    "    filters=64,\n",
    "    kernel_size=(9, 9),\n",
    "    pass_padding='VALID',\n",
    "    activation='relu',\n",
    "))\n",
    "model.add(Conv2D(\n",
    "    filters=32,\n",
    "    kernel_size=(1, 1),\n",
    "    pass_padding='VALID',\n",
    "    activation='relu',\n",
    "))\n",
    "model.add(Conv2D(\n",
    "    filters=1,\n",
    "    kernel_size=(5, 5),\n",
    "    pass_padding='VALID',\n",
    "    activation='relu',\n",
    "))"
   ]
  }
 ],
 "metadata": {
  "language_info": {
   "name": "python"
  },
  "orig_nbformat": 4
 },
 "nbformat": 4,
 "nbformat_minor": 2
}
