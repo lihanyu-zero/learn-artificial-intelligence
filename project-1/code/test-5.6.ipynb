{
 "cells": [
  {
   "cell_type": "code",
   "execution_count": 1,
   "metadata": {},
   "outputs": [],
   "source": [
    "from keras_preprocessing.image import array_to_img, img_to_array, load_img"
   ]
  },
  {
   "cell_type": "code",
   "execution_count": null,
   "metadata": {},
   "outputs": [],
   "source": [
    "def low_recolution(x, sacle=3):\n",
    "    size = (x.shape[0], x.shape[1])\n",
    "    small_size = (int(size[0]/sacle), int(size[1]/sacle))\n",
    "    img = img_to_array(x)\n",
    "    small_img = img.resize(small_size, 3)\n",
    "    return img_to_array(small_img.resize(img.size, 3))"
   ]
  }
 ],
 "metadata": {
  "kernelspec": {
   "display_name": "pytorch-practice",
   "language": "python",
   "name": "python3"
  },
  "language_info": {
   "codemirror_mode": {
    "name": "ipython",
    "version": 3
   },
   "file_extension": ".py",
   "mimetype": "text/x-python",
   "name": "python",
   "nbconvert_exporter": "python",
   "pygments_lexer": "ipython3",
   "version": "3.9.17"
  },
  "orig_nbformat": 4
 },
 "nbformat": 4,
 "nbformat_minor": 2
}
