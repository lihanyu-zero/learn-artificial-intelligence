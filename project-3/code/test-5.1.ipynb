{
 "cells": [
  {
   "cell_type": "code",
   "execution_count": 348,
   "metadata": {},
   "outputs": [
    {
     "ename": "ImportError",
     "evalue": "cannot import name 'candlestick2_ochl' from 'mplfinance' (/Users/lihanyu/.pyenv/versions/anaconda3-2022.10/envs/pytorch-practice/lib/python3.9/site-packages/mplfinance/__init__.py)",
     "output_type": "error",
     "traceback": [
      "\u001b[0;31m---------------------------------------------------------------------------\u001b[0m",
      "\u001b[0;31mImportError\u001b[0m                               Traceback (most recent call last)",
      "Cell \u001b[0;32mIn[348], line 3\u001b[0m\n\u001b[1;32m      1\u001b[0m \u001b[39mimport\u001b[39;00m \u001b[39mmatplotlib\u001b[39;00m\u001b[39m.\u001b[39;00m\u001b[39mpyplot\u001b[39;00m \u001b[39mas\u001b[39;00m \u001b[39mplt\u001b[39;00m\n\u001b[1;32m      2\u001b[0m \u001b[39mimport\u001b[39;00m \u001b[39mpandas\u001b[39;00m \u001b[39mas\u001b[39;00m \u001b[39mpd\u001b[39;00m\n\u001b[0;32m----> 3\u001b[0m \u001b[39mfrom\u001b[39;00m \u001b[39mmplfinance\u001b[39;00m \u001b[39mimport\u001b[39;00m candlestick2_ochl\n\u001b[1;32m      4\u001b[0m \u001b[39mimport\u001b[39;00m \u001b[39mmplfinance\u001b[39;00m \u001b[39mas\u001b[39;00m \u001b[39mmpf\u001b[39;00m\n",
      "\u001b[0;31mImportError\u001b[0m: cannot import name 'candlestick2_ochl' from 'mplfinance' (/Users/lihanyu/.pyenv/versions/anaconda3-2022.10/envs/pytorch-practice/lib/python3.9/site-packages/mplfinance/__init__.py)"
     ]
    }
   ],
   "source": [
    "import matplotlib.pyplot as plt\n",
    "import pandas as pd\n",
    "import mplfinance as mpf\n",
    "# from mpl_finance import candlestick2_ochl"
   ]
  },
  {
   "cell_type": "code",
   "execution_count": null,
   "metadata": {},
   "outputs": [],
   "source": [
    "# 导入数据\n",
    "file_name = './../data/data_for_4.1.csv'\n",
    "df = pd.read_csv(file_name)"
   ]
  },
  {
   "cell_type": "code",
   "execution_count": null,
   "metadata": {},
   "outputs": [],
   "source": [
    "# 时间处理\n",
    "df.columns = ['stock_id', 'date', 'close', 'open', 'high', 'low', 'volume']\n",
    "df['date'] = pd.to_datetime(df['date'])\n",
    "df['year'] = df['date'].dt.year\n",
    "df['month'] = df['date'].dt.month\n",
    "# print('df: ', df)"
   ]
  },
  {
   "cell_type": "code",
   "execution_count": null,
   "metadata": {},
   "outputs": [],
   "source": [
    "# 最低收盘价\n",
    "print(\"\"\"\"close min : {}\"\"\".format(df['close'].min()))\n",
    "print(\"\"\"\"close min index : {}\"\"\".format(df['close'].idxmin()))\n",
    "print(\"\"\"\"close min frame : {}\"\"\".format(df.loc[df['close'].idxmin()]))"
   ]
  },
  {
   "cell_type": "code",
   "execution_count": null,
   "metadata": {},
   "outputs": [],
   "source": [
    "# 每月平均收盘价与开盘价\n",
    "print('''month close mean : {}'''.format(df.groupby('month')['close'].mean()))\n",
    "print('''month open mean : {}'''.format(df.groupby('month')['open'].mean()))"
   ]
  },
  {
   "cell_type": "code",
   "execution_count": null,
   "metadata": {},
   "outputs": [],
   "source": [
    "# 计算涨跌幅\n",
    "df['rise'] = df['close'].diff()\n",
    "df['rise_ratio'] = df['rise'] / df.shift(-1)['close']\n",
    "print(df)"
   ]
  },
  {
   "cell_type": "code",
   "execution_count": null,
   "metadata": {},
   "outputs": [],
   "source": [
    "# 画出K线图\n",
    "# fig = plt.figure()\n",
    "# axes = fig.add_subplot(111)\n",
    "# candlestick2_ochl(\n",
    "#     ax = axes,\n",
    "#     opens = df['open'].values,\n",
    "#     closes = df['close'].values,\n",
    "#     highs = df['high'].values,\n",
    "#     lows = df['low'].values,\n",
    "#     width = 0.75,\n",
    "#     colorup = 'red',\n",
    "#     colordown = 'green',\n",
    "# )\n",
    "# plt.xticks(range(len(df.index.values)), df.index.values, rotation=30)\n",
    "# plt.title('K-Line')\n",
    "# plt.show()"
   ]
  },
  {
   "cell_type": "code",
   "execution_count": null,
   "metadata": {},
   "outputs": [],
   "source": [
    "# K线图带交易量\n",
    "# K线图带交易量及均线\n",
    "df = df.set_index('date')\n",
    "\n",
    "my_color = mpf.make_marketcolors(\n",
    "    up = 'red',\n",
    "    down = 'green',\n",
    "    wick = 'i',\n",
    "    ohlc = 'i',\n",
    "    volume = {'up': 'red', 'down': 'green'}\n",
    ")\n",
    "\n",
    "my_style = mpf.make_mpf_style(\n",
    "    marketcolors = my_color,\n",
    "    gridaxis = 'both',\n",
    "    gridstyle = '-.'\n",
    ")\n",
    "\n",
    "mpf.plot(\n",
    "    df,\n",
    "    type = 'candle',\n",
    "    title = 'K-LineByVolume',\n",
    "    ylabel = 'price',\n",
    "    style = my_style,\n",
    "    show_nontrading = False,\n",
    "    volume = True,\n",
    "    ylabel_lower = 'volume',\n",
    "    datetime_format = '%Y-%m-%d',\n",
    "    xrotation = 45,\n",
    "    linecolor = '#00ff00',\n",
    "    tight_layout = False\n",
    ")\n",
    "\n",
    "mpf.plot(\n",
    "    df,\n",
    "    type = 'candle',\n",
    "    title = 'K-LineByVolume',\n",
    "    ylabel = 'price',\n",
    "    style = my_style,\n",
    "    show_nontrading = False,\n",
    "    volume = True,\n",
    "    ylabel_lower = 'volume',\n",
    "    datetime_format = '%Y-%m-%d',\n",
    "    xrotation = 45,\n",
    "    linecolor = '#00ff00',\n",
    "    tight_layout = False,\n",
    "    mav = [5, 10] # 均线\n",
    ")"
   ]
  }
 ],
 "metadata": {
  "kernelspec": {
   "display_name": "pytorch-practice",
   "language": "python",
   "name": "python3"
  },
  "language_info": {
   "codemirror_mode": {
    "name": "ipython",
    "version": 3
   },
   "file_extension": ".py",
   "mimetype": "text/x-python",
   "name": "python",
   "nbconvert_exporter": "python",
   "pygments_lexer": "ipython3",
   "version": "3.9.17"
  },
  "orig_nbformat": 4
 },
 "nbformat": 4,
 "nbformat_minor": 2
}
