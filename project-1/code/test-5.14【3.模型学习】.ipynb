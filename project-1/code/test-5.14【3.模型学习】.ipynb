{
 "cells": [
  {
   "cell_type": "code",
   "execution_count": 8,
   "metadata": {},
   "outputs": [],
   "source": [
    "from keras_preprocessing.image import array_to_img, img_to_array, load_img\n",
    "from tensorflow.keras.preprocessing.image import ImageDataGenerator\n",
    "import numpy as np\n",
    "import tensorflow as tf\n",
    "from tensorflow.keras import Sequential\n",
    "from tensorflow.keras.layers import Conv2D, MaxPool2D, Flatten, Dense"
   ]
  },
  {
   "cell_type": "code",
   "execution_count": 9,
   "metadata": {},
   "outputs": [
    {
     "ename": "TypeError",
     "evalue": "flow_from_directory() missing 1 required positional argument: 'self'",
     "output_type": "error",
     "traceback": [
      "\u001b[0;31m---------------------------------------------------------------------------\u001b[0m",
      "\u001b[0;31mTypeError\u001b[0m                                 Traceback (most recent call last)",
      "Cell \u001b[0;32mIn[9], line 31\u001b[0m\n\u001b[1;32m     28\u001b[0m BATCH_SIZE \u001b[39m=\u001b[39m \u001b[39m8\u001b[39m\n\u001b[1;32m     30\u001b[0m train_data_generator \u001b[39m=\u001b[39m image_generator(Image_DIR, \u001b[39m'\u001b[39m\u001b[39mtrain\u001b[39m\u001b[39m'\u001b[39m, scale\u001b[39m=\u001b[39m\u001b[39m2.0\u001b[39m, batch_size\u001b[39m=\u001b[39mBATCH_SIZE)\n\u001b[0;32m---> 31\u001b[0m test_x, test_y \u001b[39m=\u001b[39m \u001b[39mnext\u001b[39;49m(\n\u001b[1;32m     32\u001b[0m     image_generator(Image_DIR, \u001b[39m'\u001b[39;49m\u001b[39mtest\u001b[39;49m\u001b[39m'\u001b[39;49m, scale\u001b[39m=\u001b[39;49m\u001b[39m2.0\u001b[39;49m, batch_size\u001b[39m=\u001b[39;49mBATCH_SIZE)\n\u001b[1;32m     33\u001b[0m )\n",
      "Cell \u001b[0;32mIn[9], line 13\u001b[0m, in \u001b[0;36mimage_generator\u001b[0;34m(data_dir, mode, scale, target_size, batch_size, shuffle)\u001b[0m\n\u001b[1;32m     12\u001b[0m \u001b[39mdef\u001b[39;00m \u001b[39mimage_generator\u001b[39m(data_dir, mode, scale\u001b[39m=\u001b[39m\u001b[39m2.0\u001b[39m, target_size\u001b[39m=\u001b[39m(\u001b[39m200\u001b[39m, \u001b[39m200\u001b[39m), batch_size\u001b[39m=\u001b[39m\u001b[39m8\u001b[39m, shuffle\u001b[39m=\u001b[39m\u001b[39mTrue\u001b[39;00m):\n\u001b[0;32m---> 13\u001b[0m     \u001b[39mfor\u001b[39;00m images \u001b[39min\u001b[39;00m ImageDataGenerator\u001b[39m.\u001b[39;49mflow_from_directory(\n\u001b[1;32m     14\u001b[0m         directory\u001b[39m=\u001b[39;49mdata_dir,\n\u001b[1;32m     15\u001b[0m         classes \u001b[39m=\u001b[39;49m [mode],\n\u001b[1;32m     16\u001b[0m         class_mode \u001b[39m=\u001b[39;49m \u001b[39mNone\u001b[39;49;00m,\n\u001b[1;32m     17\u001b[0m         color_mode \u001b[39m=\u001b[39;49m \u001b[39m'\u001b[39;49m\u001b[39mrgb\u001b[39;49m\u001b[39m'\u001b[39;49m,\n\u001b[1;32m     18\u001b[0m         batch_size \u001b[39m=\u001b[39;49m batch_size,\n\u001b[1;32m     19\u001b[0m         target_size \u001b[39m=\u001b[39;49m target_size,\n\u001b[1;32m     20\u001b[0m         shuffle \u001b[39m=\u001b[39;49m shuffle\n\u001b[1;32m     21\u001b[0m     ):\n\u001b[1;32m     22\u001b[0m         x \u001b[39m=\u001b[39m np\u001b[39m.\u001b[39marray([low_recolution(img, scale) \u001b[39mfor\u001b[39;00m img \u001b[39min\u001b[39;00m images])\n\u001b[1;32m     23\u001b[0m         \u001b[39myield\u001b[39;00m x\u001b[39m/\u001b[39m\u001b[39m255.\u001b[39m, images\u001b[39m/\u001b[39m\u001b[39m255.\u001b[39m\n",
      "\u001b[0;31mTypeError\u001b[0m: flow_from_directory() missing 1 required positional argument: 'self'"
     ]
    }
   ],
   "source": [
    "# 定义模型\n",
    "demo = ImageDataGenerator(\n",
    "    rescale = 1./255,\n",
    "    rotation_range = 40,\n",
    "    width_shift_range = 0.2,\n",
    "    height_shift_range = 0.2,\n",
    "    shear_range = 0.2,\n",
    "    horizontal_flip = True,\n",
    "    vertical_flip = True\n",
    ")\n",
    "\n",
    "def image_generator(data_dir, mode, scale=2.0, target_size=(200, 200), batch_size=8, shuffle=True):\n",
    "    for images in ImageDataGenerator.flow_from_directory(\n",
    "        directory=data_dir,\n",
    "        classes = [mode],\n",
    "        class_mode = None,\n",
    "        color_mode = 'rgb',\n",
    "        batch_size = batch_size,\n",
    "        target_size = target_size,\n",
    "        shuffle = shuffle\n",
    "    ):\n",
    "        x = np.array([low_recolution(img, scale) for img in images])\n",
    "        yield x/255., images/255.\n",
    "\n",
    "Image_DIR = 'data/images'\n",
    "TRAIN_DATA = 39\n",
    "TEST_DATA = 39\n",
    "BATCH_SIZE = 8\n",
    "\n",
    "train_data_generator = image_generator(Image_DIR, 'train', scale=2.0, batch_size=BATCH_SIZE)\n",
    "test_x, test_y = next(\n",
    "    image_generator(Image_DIR, 'test', scale=2.0, batch_size=BATCH_SIZE)\n",
    ")"
   ]
  },
  {
   "cell_type": "code",
   "execution_count": null,
   "metadata": {},
   "outputs": [],
   "source": [
    "# 定义模型\n",
    "model = Sequential()\n",
    "model.add(Conv2D(\n",
    "    filters=64,\n",
    "    kernel_size=(9, 9),\n",
    "    pass_padding='VALID',\n",
    "    activation='relu',\n",
    "))\n",
    "model.add(Conv2D(\n",
    "    filters=32,\n",
    "    kernel_size=(1, 1),\n",
    "    pass_padding='VALID',\n",
    "    activation='relu',\n",
    "))\n",
    "model.add(Conv2D(\n",
    "    filters=1,\n",
    "    kernel_size=(5, 5),\n",
    "    pass_padding='VALID',\n",
    "    activation='relu',\n",
    "))"
   ]
  },
  {
   "cell_type": "code",
   "execution_count": null,
   "metadata": {},
   "outputs": [],
   "source": [
    "# 模型学习\n",
    "optimizer = optimizers.Adam(learning_rate=0.001)\n",
    "model.comlie(\n",
    "    loss='mean_squared_error', # 均方误差\n",
    "    optimizer=optimizer, # 优化器\n",
    "    metrics=['accuracy'], # 评价指标\n",
    ")\n",
    "model.fit_generator(\n",
    "    train_data_generator,\n",
    "    validation_data=(test_x, test_y),\n",
    "    steps_per_epoch=TEST_DATA//BATCH_SIZE,\n",
    "    epochs=100,\n",
    "    verbose=2,\n",
    ")"
   ]
  },
  {
   "cell_type": "code",
   "execution_count": null,
   "metadata": {},
   "outputs": [],
   "source": []
  }
 ],
 "metadata": {
  "kernelspec": {
   "display_name": "pytorch-practice",
   "language": "python",
   "name": "python3"
  },
  "language_info": {
   "codemirror_mode": {
    "name": "ipython",
    "version": 3
   },
   "file_extension": ".py",
   "mimetype": "text/x-python",
   "name": "python",
   "nbconvert_exporter": "python",
   "pygments_lexer": "ipython3",
   "version": "3.9.17"
  },
  "orig_nbformat": 4
 },
 "nbformat": 4,
 "nbformat_minor": 2
}
