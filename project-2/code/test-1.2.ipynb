{
 "cells": [
  {
   "cell_type": "code",
   "execution_count": 66,
   "metadata": {},
   "outputs": [
    {
     "name": "stdout",
     "output_type": "stream",
     "text": [
      "\n",
      " nd1: \n",
      " [0.3219883  0.89042245 0.58805226 0.12659609 0.14134122 0.46789559\n",
      " 0.02208966 0.72727471 0.52438734 0.54493524] \n",
      " \n",
      " nd1[3]: \n",
      " 0.12659609350429124 \n",
      " \n",
      " nd1[3:6]: \n",
      " [0.12659609 0.14134122 0.46789559] \n",
      " \n",
      " nd1[1:6:2]: \n",
      " [0.89042245 0.12659609 0.46789559] \n",
      " \n",
      " nd1[::2]: \n",
      " [0.3219883  0.58805226 0.14134122 0.02208966 0.52438734] \n",
      " \n",
      " nd1[::-2]: \n",
      " [0.54493524 0.72727471 0.46789559 0.12659609 0.89042245] \n",
      "\n"
     ]
    }
   ],
   "source": [
    "import  numpy as np\n",
    "np.random.seed(2023)\n",
    "nd1 = np.random.random([10])\n",
    "# nd1[x:y:z] x: start index, y: end index, z: step\n",
    "print(\n",
    "    '\\n', 'nd1:', '\\n', nd1, '\\n',\n",
    "    '\\n', 'nd1[3]:', '\\n', nd1[3], '\\n',\n",
    "    '\\n', 'nd1[3:6]:', '\\n', nd1[3:6], '\\n',\n",
    "    '\\n', 'nd1[1:6:2]:', '\\n', nd1[1:6:2], '\\n',\n",
    "    '\\n', 'nd1[::2]:', '\\n', nd1[::2], '\\n',\n",
    "    '\\n', 'nd1[::-2]:', '\\n', nd1[::-2], '\\n'\n",
    ")"
   ]
  },
  {
   "cell_type": "code",
   "execution_count": 67,
   "metadata": {},
   "outputs": [
    {
     "name": "stdout",
     "output_type": "stream",
     "text": [
      "\n",
      " nd2: \n",
      " [[ 0  1  2  3  4  5]\n",
      " [ 6  7  8  9 10 11]\n",
      " [12 13 14 15 16 17]\n",
      " [18 19 20 21 22 23]\n",
      " [24 25 26 27 28 29]] \n",
      " \n",
      " nd2[1, 3]: \n",
      " 9 \n",
      " \n",
      " nd2[[1, 3], [1, 3]]: \n",
      " [ 7 21] \n",
      " \n",
      " nd2[1:3]: \n",
      " [[ 6  7  8  9 10 11]\n",
      " [12 13 14 15 16 17]] \n",
      " \n",
      " nd2[1:3, 1:3]: \n",
      " [[ 7  8]\n",
      " [13 14]] \n",
      " \n",
      " nd2[(nd2>3)&(nd2<10)]: \n",
      " [4 5 6 7 8 9] \n",
      " \n",
      " nd2[1:6:2]: \n",
      " [[ 6  7  8  9 10 11]\n",
      " [18 19 20 21 22 23]] \n",
      " \n",
      " nd2[::2]: \n",
      " [[ 0  1  2  3  4  5]\n",
      " [12 13 14 15 16 17]\n",
      " [24 25 26 27 28 29]] \n",
      " \n",
      " nd2[::-2]: \n",
      " [[24 25 26 27 28 29]\n",
      " [12 13 14 15 16 17]\n",
      " [ 0  1  2  3  4  5]] \n",
      "\n"
     ]
    }
   ],
   "source": [
    "nd2 = np.arange(30).reshape([5, 6])\n",
    "print(\n",
    "    '\\n', 'nd2:', '\\n', nd2, '\\n',\n",
    "    '\\n', 'nd2[1, 3]:', '\\n', nd2[1, 3], '\\n',\n",
    "    '\\n', 'nd2[[1, 3], [1, 3]]:', '\\n', nd2[[1,3], [1,3]], '\\n',\n",
    "    '\\n', 'nd2[1:3]:', '\\n', nd2[1:3], '\\n',\n",
    "    '\\n', 'nd2[1:3, 1:3]:', '\\n', nd2[1:3, 1:3], '\\n',\n",
    "    '\\n', 'nd2[(nd2>3)&(nd2<10)]:', '\\n', nd2[(nd2>3)&(nd2<10)], '\\n',\n",
    "    '\\n', 'nd2[1:6:2]:', '\\n', nd2[1:6:2], '\\n',\n",
    "    '\\n', 'nd2[::2]:', '\\n', nd2[::2], '\\n',\n",
    "    '\\n', 'nd2[::-2]:', '\\n', nd2[::-2], '\\n'\n",
    ")"
   ]
  },
  {
   "cell_type": "code",
   "execution_count": 68,
   "metadata": {},
   "outputs": [
    {
     "name": "stdout",
     "output_type": "stream",
     "text": [
      "[[19.  4. 18. 15.]\n",
      " [17.  8. 18. 17.]\n",
      " [ 1. 18.  9. 18.]]\n",
      "[[ 1.  4. 10.  3.]\n",
      " [23. 13. 14. 11.]\n",
      " [ 6. 20.  8.  2.]]\n",
      "[[22. 22. 24. 23.]\n",
      " [ 8. 22. 14. 13.]\n",
      " [16. 18. 19.  7.]]\n"
     ]
    }
   ],
   "source": [
    "import numpy as np\n",
    "from numpy import random as nr\n",
    "a = np.arange(1, 25, dtype=float)\n",
    "# 随机可重复抽取\n",
    "c1 = nr.choice(a, size=(3,4))\n",
    "print(c1)\n",
    "# 随机不可重复抽取\n",
    "c2 = nr.choice(a, size=(3,4), replace=False)\n",
    "print(c2)\n",
    "c3 = nr.choice(a, size=(3,4), p=a/np.sum(a))\n",
    "print(c3)"
   ]
  }
 ],
 "metadata": {
  "kernelspec": {
   "display_name": "Python 3",
   "language": "python",
   "name": "python3"
  },
  "language_info": {
   "codemirror_mode": {
    "name": "ipython",
    "version": 3
   },
   "file_extension": ".py",
   "mimetype": "text/x-python",
   "name": "python",
   "nbconvert_exporter": "python",
   "pygments_lexer": "ipython3",
   "version": "3.9.13"
  },
  "orig_nbformat": 4
 },
 "nbformat": 4,
 "nbformat_minor": 2
}
