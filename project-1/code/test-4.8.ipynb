{
 "cells": [
  {
   "cell_type": "code",
   "execution_count": 15,
   "metadata": {},
   "outputs": [],
   "source": [
    "from tensorflow.keras.models import Sequential\n",
    "from tensorflow.keras.datasets import fashion_mnist\n",
    "from tensorflow.keras.layers import Dense, Dropout, Flatten, Conv2D, MaxPooling2D\n",
    "from tensorflow.keras.optimizers.legacy import SGD"
   ]
  },
  {
   "cell_type": "code",
   "execution_count": 16,
   "metadata": {},
   "outputs": [],
   "source": [
    "# Load data\n",
    "(x_train, y_train), (x_test, y_test) = fashion_mnist.load_data()\n",
    "x_train = x_train.reshape(60000, 28, 28, 1).astype('float32') / 255\n",
    "x_test = x_test.reshape(10000, 28, 28, 1).astype('float32') / 255"
   ]
  },
  {
   "cell_type": "code",
   "execution_count": 17,
   "metadata": {},
   "outputs": [
    {
     "name": "stdout",
     "output_type": "stream",
     "text": [
      "Model: \"sequential_4\"\n",
      "_________________________________________________________________\n",
      " Layer (type)                Output Shape              Param #   \n",
      "=================================================================\n",
      " conv2d_2 (Conv2D)           (None, 28, 28, 32)        320       \n",
      "                                                                 \n",
      " flatten_2 (Flatten)         (None, 25088)             0         \n",
      "                                                                 \n",
      " dense_2 (Dense)             (None, 10)                250890    \n",
      "                                                                 \n",
      "=================================================================\n",
      "Total params: 251,210\n",
      "Trainable params: 251,210\n",
      "Non-trainable params: 0\n",
      "_________________________________________________________________\n"
     ]
    }
   ],
   "source": [
    "# Build model\n",
    "model = Sequential()\n",
    "model.add(\n",
    "    Conv2D(\n",
    "        kernel_size = (3, 3), # 卷积核大小\n",
    "        filters = 32, # 卷积核个数\n",
    "        padding = 'same', # padding策略\n",
    "        input_shape = (28, 28, 1), # 输入形状\n",
    "        activation = 'relu' # 激活函数\n",
    "    )\n",
    ") # 卷积层\n",
    "model.add(Flatten()) # 扁平化\n",
    "model.add(Dense(10, activation = 'softmax')) # 全连接层\n",
    "model.compile(\n",
    "    loss='sparse_categorical_crossentropy', # 损失函数\n",
    "    optimizer=SGD(learning_rate=0.1), # 优化器\n",
    "    metrics=['accuracy'] # 评估指标\n",
    ")\n",
    "model.summary() # 打印模型概况"
   ]
  },
  {
   "cell_type": "code",
   "execution_count": 18,
   "metadata": {},
   "outputs": [
    {
     "name": "stdout",
     "output_type": "stream",
     "text": [
      "Epoch 1/10\n",
      "750/750 [==============================] - 6s 7ms/step - loss: 0.5672 - accuracy: 0.8058 - val_loss: 0.3927 - val_accuracy: 0.8622\n",
      "Epoch 2/10\n",
      "750/750 [==============================] - 5s 7ms/step - loss: 0.3718 - accuracy: 0.8687 - val_loss: 0.3524 - val_accuracy: 0.8748\n",
      "Epoch 3/10\n",
      "750/750 [==============================] - 5s 6ms/step - loss: 0.3314 - accuracy: 0.8827 - val_loss: 0.3289 - val_accuracy: 0.8832\n",
      "Epoch 4/10\n",
      "750/750 [==============================] - 5s 6ms/step - loss: 0.3102 - accuracy: 0.8893 - val_loss: 0.3325 - val_accuracy: 0.8823\n",
      "Epoch 5/10\n",
      "750/750 [==============================] - 5s 6ms/step - loss: 0.2919 - accuracy: 0.8959 - val_loss: 0.3045 - val_accuracy: 0.8918\n",
      "Epoch 6/10\n",
      "750/750 [==============================] - 5s 6ms/step - loss: 0.2759 - accuracy: 0.9020 - val_loss: 0.2954 - val_accuracy: 0.8967\n",
      "Epoch 7/10\n",
      "750/750 [==============================] - 5s 6ms/step - loss: 0.2656 - accuracy: 0.9046 - val_loss: 0.3453 - val_accuracy: 0.8758\n",
      "Epoch 8/10\n",
      "750/750 [==============================] - 5s 6ms/step - loss: 0.2532 - accuracy: 0.9093 - val_loss: 0.3217 - val_accuracy: 0.8854\n",
      "Epoch 9/10\n",
      "750/750 [==============================] - 5s 7ms/step - loss: 0.2454 - accuracy: 0.9118 - val_loss: 0.3281 - val_accuracy: 0.8855\n",
      "Epoch 10/10\n",
      "750/750 [==============================] - 5s 6ms/step - loss: 0.2348 - accuracy: 0.9150 - val_loss: 0.2927 - val_accuracy: 0.8998\n",
      "Test loss: 0.3087831437587738\n",
      "Test accuracy: 0.8859999775886536\n"
     ]
    }
   ],
   "source": [
    "# Train model\n",
    "training_epochs = 10 # 训练轮数\n",
    "batch_size = 64 # 批次大小\n",
    "model.fit(\n",
    "    x_train, y_train, # 训练集\n",
    "    batch_size = batch_size, # 批次大小\n",
    "    epochs = training_epochs, # 训练轮数\n",
    "    verbose = 1, # 日志显示模式\n",
    "    shuffle = True, # 每轮迭代后是否打乱数据集\n",
    "    validation_split = 0.2 # 验证集比例\n",
    ")\n",
    "score = model.evaluate(x_test, y_test, verbose = 0) # 测试集评估模型\n",
    "print('Test loss:', score[0]) # 输出损失值\n",
    "print('Test accuracy:', score[1]) # 输出准确率"
   ]
  }
 ],
 "metadata": {
  "kernelspec": {
   "display_name": "pytorch-practice",
   "language": "python",
   "name": "python3"
  },
  "language_info": {
   "codemirror_mode": {
    "name": "ipython",
    "version": 3
   },
   "file_extension": ".py",
   "mimetype": "text/x-python",
   "name": "python",
   "nbconvert_exporter": "python",
   "pygments_lexer": "ipython3",
   "version": "3.9.17"
  },
  "orig_nbformat": 4
 },
 "nbformat": 4,
 "nbformat_minor": 2
}
