{
 "cells": [
  {
   "cell_type": "code",
   "execution_count": 53,
   "metadata": {},
   "outputs": [
    {
     "name": "stdout",
     "output_type": "stream",
     "text": [
      "nd1:\n",
      " [3.3 2.5 0.  1.  2. ] \n",
      " <class 'numpy.ndarray'>\n"
     ]
    }
   ],
   "source": [
    "import  numpy as np\n",
    "list1 = [3.3, 2.5, 0, 1, 2]\n",
    "nd1 = np.array(list1)\n",
    "print('nd1:\\n', nd1, '\\n', type(nd1))"
   ]
  },
  {
   "cell_type": "code",
   "execution_count": 54,
   "metadata": {},
   "outputs": [
    {
     "name": "stdout",
     "output_type": "stream",
     "text": [
      "nd2:\n",
      " [[3.3 2.5 0.  1.  2. ]\n",
      " [3.3 2.5 0.  1.  2. ]] \n",
      " <class 'numpy.ndarray'>\n"
     ]
    }
   ],
   "source": [
    "list2 = [[3.3, 2.5, 0, 1, 2], [3.3, 2.5, 0, 1, 2]]\n",
    "nd2 = np.array(list2)\n",
    "print('nd2:\\n', nd2, '\\n', type(nd2))"
   ]
  },
  {
   "cell_type": "code",
   "execution_count": 55,
   "metadata": {},
   "outputs": [
    {
     "name": "stdout",
     "output_type": "stream",
     "text": [
      "nd3:\n",
      " [[0.02798196 0.17390652 0.15408224]\n",
      " [0.07708648 0.8898657  0.7503787 ]\n",
      " [0.69340324 0.51176338 0.46426806]] \n",
      " <class 'numpy.ndarray'> \n",
      " (3, 3)\n"
     ]
    }
   ],
   "source": [
    "nd3 = np.random.random([3, 3])\n",
    "print('nd3:\\n', nd3, '\\n', type(nd3), '\\n', nd3.shape)"
   ]
  },
  {
   "cell_type": "code",
   "execution_count": 56,
   "metadata": {},
   "outputs": [
    {
     "name": "stdout",
     "output_type": "stream",
     "text": [
      "nd4:\n",
      " [[-1.0856306   0.99734545  0.2829785 ]\n",
      " [-1.50629471 -0.57860025  1.65143654]]\n",
      "nd4:\n",
      " [[-1.50629471 -0.57860025  1.65143654]\n",
      " [-1.0856306   0.99734545  0.2829785 ]] \n",
      " <class 'numpy.ndarray'> \n",
      " (2, 3)\n"
     ]
    }
   ],
   "source": [
    "np.random.seed(123)\n",
    "nd4 = np.random.randn(2, 3)\n",
    "print('nd4:\\n', nd4)\n",
    "np.random.shuffle(nd4)\n",
    "print('nd4:\\n', nd4, '\\n', type(nd4), '\\n', nd4.shape)"
   ]
  },
  {
   "cell_type": "code",
   "execution_count": 57,
   "metadata": {},
   "outputs": [
    {
     "name": "stdout",
     "output_type": "stream",
     "text": [
      "nd5:\n",
      " [[0. 0. 0.]\n",
      " [0. 0. 0.]\n",
      " [0. 0. 0.]] \n",
      " <class 'numpy.ndarray'> \n",
      " (3, 3)\n",
      "nd6:\n",
      " [[1. 1. 1.]\n",
      " [1. 1. 1.]\n",
      " [1. 1. 1.]] \n",
      " <class 'numpy.ndarray'> \n",
      " (3, 3)\n",
      "nd7:\n",
      " [[1. 0. 0. 0. 0. 0. 0. 0. 0.]\n",
      " [0. 1. 0. 0. 0. 0. 0. 0. 0.]\n",
      " [0. 0. 1. 0. 0. 0. 0. 0. 0.]\n",
      " [0. 0. 0. 1. 0. 0. 0. 0. 0.]\n",
      " [0. 0. 0. 0. 1. 0. 0. 0. 0.]\n",
      " [0. 0. 0. 0. 0. 1. 0. 0. 0.]\n",
      " [0. 0. 0. 0. 0. 0. 1. 0. 0.]\n",
      " [0. 0. 0. 0. 0. 0. 0. 1. 0.]\n",
      " [0. 0. 0. 0. 0. 0. 0. 0. 1.]] \n",
      " <class 'numpy.ndarray'> \n",
      " (9, 9)\n",
      "nd8:\n",
      " [[1 0 0 0 0]\n",
      " [0 2 0 0 0]\n",
      " [0 0 3 0 0]\n",
      " [0 0 0 4 0]\n",
      " [0 0 0 0 5]] \n",
      " <class 'numpy.ndarray'> \n",
      " (5, 5)\n"
     ]
    }
   ],
   "source": [
    "nd5 = np.zeros([3, 3])\n",
    "np.zeros_like(nd5)\n",
    "print('nd5:\\n', nd5, '\\n', type(nd5), '\\n', nd5.shape)\n",
    "\n",
    "nd6 = np.ones([3, 3])\n",
    "# np.ones_like(nd6)\n",
    "print('nd6:\\n', nd6, '\\n', type(nd6), '\\n', nd6.shape)\n",
    "\n",
    "nd7 = np.eye(9)\n",
    "print('nd7:\\n', nd7, '\\n', type(nd7), '\\n', nd7.shape)\n",
    "\n",
    "nd8 = np.diag([1, 2, 3, 4, 5])\n",
    "print('nd8:\\n', nd8, '\\n', type(nd8), '\\n', nd8.shape)"
   ]
  },
  {
   "cell_type": "code",
   "execution_count": 58,
   "metadata": {},
   "outputs": [
    {
     "name": "stdout",
     "output_type": "stream",
     "text": [
      "nd9:\n",
      " [[0.41092437 0.5796943  0.13995076 0.40101756 0.62731701]\n",
      " [0.32415089 0.24475928 0.69475518 0.5939024  0.63179202]\n",
      " [0.44025718 0.08372648 0.71233018 0.42786349 0.2977805 ]\n",
      " [0.49208478 0.74029639 0.35772892 0.41720995 0.65472131]\n",
      " [0.37380143 0.23451288 0.98799529 0.76599595 0.77700444]] \n",
      " <class 'numpy.ndarray'> \n",
      " (5, 5)\n"
     ]
    }
   ],
   "source": [
    "nd9 = np.random.random([5, 5])\n",
    "np.savetxt(X=nd9, fname='nd9.txt', fmt='%.2f', delimiter=',')\n",
    "print('nd9:\\n', nd9, '\\n', type(nd9), '\\n', nd9.shape)"
   ]
  },
  {
   "cell_type": "code",
   "execution_count": 59,
   "metadata": {},
   "outputs": [
    {
     "name": "stdout",
     "output_type": "stream",
     "text": [
      "nd10:\n",
      " [[0.41 0.58 0.14 0.4  0.63]\n",
      " [0.32 0.24 0.69 0.59 0.63]\n",
      " [0.44 0.08 0.71 0.43 0.3 ]\n",
      " [0.49 0.74 0.36 0.42 0.65]\n",
      " [0.37 0.23 0.99 0.77 0.78]] \n",
      " <class 'numpy.ndarray'> \n",
      " (5, 5)\n"
     ]
    }
   ],
   "source": [
    "nd10 = np.loadtxt('nd9.txt', delimiter=',')\n",
    "print('nd10:\\n', nd10, '\\n', type(nd10), '\\n', nd10.shape)"
   ]
  },
  {
   "cell_type": "code",
   "execution_count": 60,
   "metadata": {},
   "outputs": [
    {
     "name": "stdout",
     "output_type": "stream",
     "text": [
      "nd11:\n",
      " [0 1 2 3 4 5 6 7 8 9] \n",
      " <class 'numpy.ndarray'> \n",
      " (10,)\n",
      "nd12:\n",
      " [0 1 2 3 4 5 6 7 8 9] \n",
      " <class 'numpy.ndarray'> \n",
      " (10,)\n",
      "nd13:\n",
      " [0.  0.5 1.  1.5 2.  2.5 3.  3.5 4.  4.5 5.  5.5] \n",
      " <class 'numpy.ndarray'> \n",
      " (12,)\n",
      "nd14:\n",
      " [9 8 7 6 5 4 3 2 1 0] \n",
      " <class 'numpy.ndarray'> \n",
      " (10,)\n"
     ]
    }
   ],
   "source": [
    "nd11 = np.arange(10)\n",
    "print('nd11:\\n', nd11, '\\n', type(nd11), '\\n', nd11.shape)\n",
    "nd12 = np.arange(0, 10)\n",
    "print('nd12:\\n', nd12, '\\n', type(nd12), '\\n', nd12.shape)\n",
    "nd13 = np.arange(0, 6, 0.5)\n",
    "print('nd13:\\n', nd13, '\\n', type(nd13), '\\n', nd13.shape)\n",
    "nd14 = np.arange(9, -1, -1)\n",
    "print('nd14:\\n', nd14, '\\n', type(nd14), '\\n', nd14.shape)"
   ]
  },
  {
   "cell_type": "code",
   "execution_count": 61,
   "metadata": {},
   "outputs": [
    {
     "name": "stdout",
     "output_type": "stream",
     "text": [
      "nd15:\n",
      " [0.   0.25 0.5  0.75 1.  ] \n",
      " <class 'numpy.ndarray'> \n",
      " (5,)\n"
     ]
    }
   ],
   "source": [
    "nd15 = np.linspace(0, 1, 5)\n",
    "print('nd15:\\n', nd15, '\\n', type(nd15), '\\n', nd15.shape)"
   ]
  }
 ],
 "metadata": {
  "kernelspec": {
   "display_name": "Python 3",
   "language": "python",
   "name": "python3"
  },
  "language_info": {
   "codemirror_mode": {
    "name": "ipython",
    "version": 3
   },
   "file_extension": ".py",
   "mimetype": "text/x-python",
   "name": "python",
   "nbconvert_exporter": "python",
   "pygments_lexer": "ipython3",
   "version": "3.9.13"
  },
  "orig_nbformat": 4
 },
 "nbformat": 4,
 "nbformat_minor": 2
}
