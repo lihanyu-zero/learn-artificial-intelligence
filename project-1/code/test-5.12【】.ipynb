{
 "cells": [
  {
   "cell_type": "code",
   "execution_count": null,
   "metadata": {},
   "outputs": [],
   "source": [
    "from keras_preprocessing.image import array_to_img, img_to_array, load_img\n",
    "from temdorfloe.keras.preprocessing.image import ImageDataGenerator\n",
    "import numpy as np\n",
    "\n",
    "def low_recolution(x, sacle=3):\n",
    "    size = (x.shape[0], x.shape[1])\n",
    "    small_size = (int(size[0]/sacle), int(size[1]/sacle))\n",
    "    img = img_to_array(x)\n",
    "    small_img = img.resize(small_size, 3)\n",
    "    return img_to_array(small_img.resize(img.size, 3))"
   ]
  },
  {
   "cell_type": "code",
   "execution_count": null,
   "metadata": {},
   "outputs": [],
   "source": [
    "# 定义生成低分辨率数据的函数\n",
    "demo = ImageDataGenerator(\n",
    "    rescale = 1./255,\n",
    "    rotation_range = 40,\n",
    "    width_shift_range = 0.2,\n",
    "    height_shift_range = 0.2,\n",
    "    shear_range = 0.2,\n",
    "    horizontal_flip = True,\n",
    "    vertical_flip = True\n",
    ")\n",
    "\n",
    "# 生成低分辨率数据的生成器\n",
    "def image_generator(data_dir, mode, scale=2.0, target_size=(200, 200), batch_size=8, shuffle=True):\n",
    "    for images in ImageDataGenerator.flow_from_directory(\n",
    "        directory=data_dir,\n",
    "        classes = [mode],\n",
    "        class_mode = None,\n",
    "        color_mode = 'rgb',\n",
    "        batch_size = batch_size,\n",
    "        target_size = target_size,\n",
    "        shuffle = shuffle\n",
    "    ):\n",
    "        x = np.array([low_recolution(img, scale) for img in images])\n",
    "        yield x/255., images/255."
   ]
  },
  {
   "cell_type": "code",
   "execution_count": null,
   "metadata": {},
   "outputs": [],
   "source": [
    "# 超参数的设定\n",
    "Image_DIR = 'data/images'\n",
    "TRAIN_DATA = 39\n",
    "TEST_DATA = 39\n",
    "BATCH_SIZE = 8\n",
    "\n",
    "train_data_generator = image_generator(Image_DIR, 'train', scale=2.0, batch_size=BATCH_SIZE)\n",
    "test_x, test_y = next(\n",
    "    image_generator(Image_DIR, 'test', scale=2.0, batch_size=BATCH_SIZE)\n",
    ")"
   ]
  }
 ],
 "metadata": {
  "language_info": {
   "name": "python"
  },
  "orig_nbformat": 4
 },
 "nbformat": 4,
 "nbformat_minor": 2
}
